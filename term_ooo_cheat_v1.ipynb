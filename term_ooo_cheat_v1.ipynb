{
  "nbformat": 4,
  "nbformat_minor": 0,
  "metadata": {
    "colab": {
      "name": "term.ooo-cheat-v1.ipynb",
      "provenance": [],
      "collapsed_sections": [],
      "mount_file_id": "13cRDKobi502DpQ_SZ3PflDJUOhFq4BiG",
      "authorship_tag": "ABX9TyN18BsKYRNXfrNT3dMP8H4V",
      "include_colab_link": true
    },
    "kernelspec": {
      "name": "python3",
      "display_name": "Python 3"
    },
    "language_info": {
      "name": "python"
    }
  },
  "cells": [
    {
      "cell_type": "markdown",
      "metadata": {
        "id": "view-in-github",
        "colab_type": "text"
      },
      "source": [
        "<a href=\"https://colab.research.google.com/github/charlesfg/term.ooo-solver/blob/main/term_ooo_cheat_v1.ipynb\" target=\"_parent\"><img src=\"https://colab.research.google.com/assets/colab-badge.svg\" alt=\"Open In Colab\"/></a>"
      ]
    },
    {
      "cell_type": "code",
      "source": [
        "!wget  https://raw.githubusercontent.com/charlesfg/term.ooo-solver/main/words5char.json"
      ],
      "metadata": {
        "colab": {
          "base_uri": "https://localhost:8080/"
        },
        "id": "QS5oqNmUq46P",
        "outputId": "b14714aa-66aa-4183-98f0-cc42638edbed"
      },
      "execution_count": 1,
      "outputs": [
        {
          "output_type": "stream",
          "name": "stdout",
          "text": [
            "--2022-02-21 14:25:17--  https://raw.githubusercontent.com/charlesfg/term.ooo-solver/main/words5char.json\n",
            "Resolving raw.githubusercontent.com (raw.githubusercontent.com)... 185.199.108.133, 185.199.109.133, 185.199.110.133, ...\n",
            "Connecting to raw.githubusercontent.com (raw.githubusercontent.com)|185.199.108.133|:443... connected.\n",
            "HTTP request sent, awaiting response... 200 OK\n",
            "Length: 54270 (53K) [text/plain]\n",
            "Saving to: ‘words5char.json’\n",
            "\n",
            "words5char.json     100%[===================>]  53.00K  --.-KB/s    in 0.006s  \n",
            "\n",
            "2022-02-21 14:25:17 (8.69 MB/s) - ‘words5char.json’ saved [54270/54270]\n",
            "\n"
          ]
        }
      ]
    },
    {
      "cell_type": "code",
      "source": [
        "import json \n",
        "with open('words5char.json') as f:\n",
        "  words5char = json.load(f)\n",
        "\n",
        "print(f\"We have {len(words5char)} words in our dataset\")"
      ],
      "metadata": {
        "colab": {
          "base_uri": "https://localhost:8080/"
        },
        "id": "QYJqlM5X2tth",
        "outputId": "295c8c06-f479-4652-b164-373d98f99050"
      },
      "execution_count": 2,
      "outputs": [
        {
          "output_type": "stream",
          "name": "stdout",
          "text": [
            "We have 5427 words in our dataset\n"
          ]
        }
      ]
    },
    {
      "cell_type": "code",
      "source": [
        "import re\n",
        "import operator\n",
        "import random\n",
        "\n",
        "# Model of 5 character words \n",
        "\n",
        "vowel_f = {\n",
        "    \"a\" : 0.1564,\n",
        "    \"o\" : 0.1019,\n",
        "    \"e\" : 0.1009,\n",
        "    \"i\" : 0.0795,\n",
        "    \"u\" : 0.0465,\n",
        "} \n",
        "\n",
        "consonant_f = {\n",
        "    \"r\" : 0.0771,\n",
        "    \"s\" : 0.0725,\n",
        "    \"m\" : 0.0477,\n",
        "    \"t\" : 0.0404,\n",
        "    \"c\" : 0.0400,\n",
        "    \"l\" : 0.0376,\n",
        "    \"n\" : 0.0320,\n",
        "    \"d\" : 0.0278,\n",
        "    \"p\" : 0.0255,\n",
        "    \"g\" : 0.0220,\n",
        "    \"v\" : 0.0218,\n",
        "    \"b\" : 0.0197,\n",
        "    \"f\" : 0.0195,\n",
        "    \"h\" : 0.0086,\n",
        "    \"j\" : 0.0076,\n",
        "    \"z\" : 0.0074,\n",
        "    \"x\" : 0.0060,\n",
        "    \"q\" : 0.0014,\n",
        "    \"k\" : 0.0001,\n",
        "}\n",
        "\n",
        "\n",
        "\n",
        "\"\"\"\n",
        "Given a set of test characteres it will test if they relates to the word_str\n",
        "returning trues if this relation holds.\n",
        "\n",
        "Ex.  check('ab',\"colegio\",\"in\") ==> False\n",
        "     check('ab',\"colegio\",\"out\") ==> True\n",
        "     check('ab',\"colegio\",\"biro\") ==> TypeError\n",
        "\"\"\"\n",
        "def check(test_chars,word_str, relations):\n",
        "  if relations == \"in\":\n",
        "    for i in test_chars:\n",
        "      if i not in word_str:\n",
        "        return False\n",
        "    return True\n",
        "  if relations == \"out\":\n",
        "    for i in test_chars:\n",
        "      if i in word_str:\n",
        "        return False\n",
        "    return True\n",
        "  raise TypeError(\"relations should be in/out\")\n",
        "\n",
        "\n",
        "\"\"\"\n",
        "in_word       - characters that must exist in the word\n",
        "out_of_word   - characters that can't exist in the word\n",
        "word_regex    - regex describing the word (which characters and in \n",
        "      which position), ex. '^.a..s$' for 'patos'\n",
        "\"\"\"\n",
        "def print_candidates(in_word, out_of_word, word_regex, ret=False):\n",
        "  candidates = []\n",
        "  for w in words5char:\n",
        "    if word_regex:\n",
        "      if not re.match(word_regex, w):\n",
        "        continue\n",
        "    if not check(in_word, w, \"in\"):\n",
        "      continue\n",
        "    if not check(out_of_word, w, \"out\"):\n",
        "      continue\n",
        "    \n",
        "    candidates.append(w)\n",
        "\n",
        "  if ret:\n",
        "    return candidates\n",
        "\n",
        "  for i in candidates:\n",
        "    print(i)\n",
        "\n",
        "\n",
        "def print_candidates_trained(in_word, out_of_word, word_regex):\n",
        "  iw_l = len(in_word)\n",
        "\n",
        "  vc = vowel_f.copy()\n",
        "  cc = consonant_f.copy()\n",
        "\n",
        "  if iw_l == 5:\n",
        "    print_candidates(in_word,out_of_word, word_regex)\n",
        "    return\n",
        "\n",
        "  for o in out_of_word+in_word:\n",
        "    if o in vc:\n",
        "      del vc[o]\n",
        "      #print(\"removing \",o)\n",
        "    if o in cc:\n",
        "      del cc[o]\n",
        "      #print(\"removing \",o)\n",
        " \n",
        "  \n",
        "  if iw_l == 0:\n",
        "    tmp_inw = \"\".join([x[0] for x in sorted(vc.items(), key=operator.itemgetter(1), reverse=True)][0:3])\n",
        "    tmp_inw += \"\".join([x[0] for x in sorted(cc.items(), key=operator.itemgetter(1), reverse=True)][0:2])\n",
        "    print_candidates(tmp_inw, out_of_word, word_regex)    \n",
        "    return \n",
        "\n",
        "  new_chars = \"\"\n",
        "  candidates = None\n",
        "  #print(\"-\",in_word)\n",
        "  \n",
        "  for i in range(5-iw_l):    \n",
        "    char_source = cc\n",
        "    # Just one vowel per try after the first try\n",
        "    if i == 0:\n",
        "      if vc:\n",
        "        char_source = vc\n",
        "    tmp_c = [x[0] for x in sorted(char_source.items(), key=operator.itemgetter(1), reverse=True)][0]\n",
        "    #print(\" tmp_c:\",tmp_c)\n",
        "    new_chars += tmp_c\n",
        "    del char_source[tmp_c]  \n",
        "  print(\"-\",in_word+new_chars)\n",
        "\n",
        "  while not candidates:\n",
        "    new_chars= new_chars[:-1]\n",
        "    print(\"Failed! retrying with '{}'\".format(in_word+new_chars))\n",
        "    candidates = print_candidates(in_word+new_chars,out_of_word, word_regex, True)\n",
        "  \n",
        "  print(candidates)\n",
        "    \n",
        " \n",
        "  \n",
        "\n"
      ],
      "metadata": {
        "id": "TFh8DPMy48rT"
      },
      "execution_count": 19,
      "outputs": []
    },
    {
      "cell_type": "code",
      "source": [
        "#print_candidates_trained(\"\",\"\",\"\")\n",
        "print_candidates_trained(\"lai\",\"tmrose\",\"[^rl][^ao][^ts][^ie][^ma]\")\n",
        "#print_candidates_trained(\"cuom\",\"pseirta\",\"c[^u][^p][^o]m\")\n",
        "#print_candidates(\"omit\",\"sera\",\"[^s][^e][^r][^a][^o]\")"
      ],
      "metadata": {
        "colab": {
          "base_uri": "https://localhost:8080/"
        },
        "id": "AYBwKcXY6Bpk",
        "outputId": "eccbedad-3215-4f93-a46a-ad173dc5c84f"
      },
      "execution_count": 21,
      "outputs": [
        {
          "output_type": "stream",
          "name": "stdout",
          "text": [
            "- laiuc\n",
            "Failed! retrying with 'laiu'\n",
            "['aludi', 'pulai', 'igual', 'ablui', 'aflui']\n"
          ]
        }
      ]
    },
    {
      "cell_type": "code",
      "source": [
        ""
      ],
      "metadata": {
        "id": "-DmwEbTr5JoG"
      },
      "execution_count": null,
      "outputs": []
    }
  ]
}