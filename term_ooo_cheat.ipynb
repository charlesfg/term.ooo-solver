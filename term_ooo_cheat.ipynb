{
  "nbformat": 4,
  "nbformat_minor": 0,
  "metadata": {
    "colab": {
      "name": "term.ooo-cheat.ipynb",
      "provenance": [],
      "collapsed_sections": [],
      "mount_file_id": "13cRDKobi502DpQ_SZ3PflDJUOhFq4BiG",
      "authorship_tag": "ABX9TyOoLiqLDrLTHL9cTfSty4BK",
      "include_colab_link": true
    },
    "kernelspec": {
      "name": "python3",
      "display_name": "Python 3"
    },
    "language_info": {
      "name": "python"
    }
  },
  "cells": [
    {
      "cell_type": "markdown",
      "metadata": {
        "id": "view-in-github",
        "colab_type": "text"
      },
      "source": [
        "<a href=\"https://colab.research.google.com/github/charlesfg/term.ooo-solver/blob/main/term_ooo_cheat.ipynb\" target=\"_parent\"><img src=\"https://colab.research.google.com/assets/colab-badge.svg\" alt=\"Open In Colab\"/></a>"
      ]
    },
    {
      "cell_type": "code",
      "execution_count": 33,
      "metadata": {
        "colab": {
          "base_uri": "https://localhost:8080/"
        },
        "id": "NLh8X9y9lUFN",
        "outputId": "ce1d31f8-0da0-41c2-a152-7d8f35cd5bec"
      },
      "outputs": [
        {
          "output_type": "stream",
          "name": "stdout",
          "text": [
            "Drive already mounted at /content/drive; to attempt to forcibly remount, call drive.mount(\"/content/drive\", force_remount=True).\n"
          ]
        }
      ],
      "source": [
        "from google.colab import drive\n",
        "drive.mount('/content/drive')\n",
        "\n",
        "# https://www.gabtoschi.com/letreco/\n",
        "# https://term.ooo/\n"
      ]
    },
    {
      "cell_type": "code",
      "source": [
        "words5char = set()\n",
        "with open('/content/drive/MyDrive/CC/br-sem-acentos.txt') as f:\n",
        "  for l in f:\n",
        "    w = l.strip()\n",
        "    if len(w) == 5:\n",
        "      words5char.add(w.lower())\n",
        "\n",
        "print(f\"Number of words of 5 characters {len(words5char)}\")\n",
        "\n",
        "with open('/content/drive/MyDrive/CC/words5char.txt', 'w') as f:\n",
        "  f.write(\"\\n\".join(words5char))\n"
      ],
      "metadata": {
        "colab": {
          "base_uri": "https://localhost:8080/"
        },
        "id": "QYJqlM5X2tth",
        "outputId": "4dc55e14-0266-4056-9e99-99e8dd6891ca"
      },
      "execution_count": 44,
      "outputs": [
        {
          "output_type": "stream",
          "name": "stdout",
          "text": [
            "Number of words of 5 characters 5427\n"
          ]
        }
      ]
    },
    {
      "cell_type": "code",
      "source": [
        "from google.colab import files\n",
        "import json\n",
        "\n",
        "with open(\"words5char.json\", \"w\") as f:\n",
        "  json.dump(list(words5char),f)\n",
        "\n",
        "files.download(\"words5char.json\")"
      ],
      "metadata": {
        "colab": {
          "base_uri": "https://localhost:8080/",
          "height": 17
        },
        "id": "Cvvn3bJ7YOiZ",
        "outputId": "6d6ed62d-9900-4540-a5d5-66e13851c818"
      },
      "execution_count": 46,
      "outputs": [
        {
          "output_type": "display_data",
          "data": {
            "application/javascript": [
              "\n",
              "    async function download(id, filename, size) {\n",
              "      if (!google.colab.kernel.accessAllowed) {\n",
              "        return;\n",
              "      }\n",
              "      const div = document.createElement('div');\n",
              "      const label = document.createElement('label');\n",
              "      label.textContent = `Downloading \"${filename}\": `;\n",
              "      div.appendChild(label);\n",
              "      const progress = document.createElement('progress');\n",
              "      progress.max = size;\n",
              "      div.appendChild(progress);\n",
              "      document.body.appendChild(div);\n",
              "\n",
              "      const buffers = [];\n",
              "      let downloaded = 0;\n",
              "\n",
              "      const channel = await google.colab.kernel.comms.open(id);\n",
              "      // Send a message to notify the kernel that we're ready.\n",
              "      channel.send({})\n",
              "\n",
              "      for await (const message of channel.messages) {\n",
              "        // Send a message to notify the kernel that we're ready.\n",
              "        channel.send({})\n",
              "        if (message.buffers) {\n",
              "          for (const buffer of message.buffers) {\n",
              "            buffers.push(buffer);\n",
              "            downloaded += buffer.byteLength;\n",
              "            progress.value = downloaded;\n",
              "          }\n",
              "        }\n",
              "      }\n",
              "      const blob = new Blob(buffers, {type: 'application/binary'});\n",
              "      const a = document.createElement('a');\n",
              "      a.href = window.URL.createObjectURL(blob);\n",
              "      a.download = filename;\n",
              "      div.appendChild(a);\n",
              "      a.click();\n",
              "      div.remove();\n",
              "    }\n",
              "  "
            ],
            "text/plain": [
              "<IPython.core.display.Javascript object>"
            ]
          },
          "metadata": {}
        },
        {
          "output_type": "display_data",
          "data": {
            "application/javascript": [
              "download(\"download_6b11c130-e5cc-4d8d-9f9b-c1ae1dbcd87c\", \"words5char.json\", 48843)"
            ],
            "text/plain": [
              "<IPython.core.display.Javascript object>"
            ]
          },
          "metadata": {}
        }
      ]
    },
    {
      "cell_type": "code",
      "source": [
        "from collections import defaultdict\n",
        "\n",
        "# character frequency\n",
        "cf = defaultdict(int)\n",
        "num_c = 0\n",
        "\n",
        "for w in words5char:\n",
        "  for c in w:\n",
        "    cf[c] +=1\n",
        "    num_c +=1\n",
        "\n",
        "\n",
        "\n",
        "\n",
        "import operator\n",
        "print(sorted(cf.items(), key=operator.itemgetter(1), reverse=True))\n"
      ],
      "metadata": {
        "colab": {
          "base_uri": "https://localhost:8080/"
        },
        "id": "iPh_b3nLc_4R",
        "outputId": "81e8a3c4-feee-47d8-c8f8-4fa2b72ffdb2"
      },
      "execution_count": 47,
      "outputs": [
        {
          "output_type": "stream",
          "name": "stdout",
          "text": [
            "[('a', 4244), ('o', 2765), ('e', 2739), ('i', 2157), ('r', 2093), ('s', 1968), ('m', 1293), ('u', 1262), ('t', 1097), ('c', 1086), ('l', 1021), ('n', 868), ('d', 754), ('p', 691), ('g', 598), ('v', 591), ('b', 535), ('f', 530), ('h', 233), ('j', 205), ('z', 201), ('x', 162), ('q', 38), ('k', 4)]\n"
          ]
        }
      ]
    },
    {
      "cell_type": "code",
      "source": [
        "words5char_freq = {}\n",
        "for k,v in sorted(cf.items(), key=operator.itemgetter(1), reverse=True):\n",
        "  print(k,\"{0:.4f}\".format(v/num_c))\n"
      ],
      "metadata": {
        "colab": {
          "base_uri": "https://localhost:8080/"
        },
        "id": "8aZGP0P9eI7H",
        "outputId": "319062c3-015a-4bce-a82a-11aea6d9c8a9"
      },
      "execution_count": 48,
      "outputs": [
        {
          "output_type": "stream",
          "name": "stdout",
          "text": [
            "a 0.1564\n",
            "o 0.1019\n",
            "e 0.1009\n",
            "i 0.0795\n",
            "r 0.0771\n",
            "s 0.0725\n",
            "m 0.0477\n",
            "u 0.0465\n",
            "t 0.0404\n",
            "c 0.0400\n",
            "l 0.0376\n",
            "n 0.0320\n",
            "d 0.0278\n",
            "p 0.0255\n",
            "g 0.0220\n",
            "v 0.0218\n",
            "b 0.0197\n",
            "f 0.0195\n",
            "h 0.0086\n",
            "j 0.0076\n",
            "z 0.0074\n",
            "x 0.0060\n",
            "q 0.0014\n",
            "k 0.0001\n"
          ]
        }
      ]
    },
    {
      "cell_type": "code",
      "source": [
        ""
      ],
      "metadata": {
        "id": "0vk4m0zkgkCH"
      },
      "execution_count": 50,
      "outputs": []
    },
    {
      "cell_type": "code",
      "source": [
        "import re\n",
        "import operator\n",
        "import random\n",
        "\n",
        "# Model of 5 character words \n",
        "\n",
        "vowel_f = {\n",
        "    \"a\" : 0.1564,\n",
        "    \"o\" : 0.1019,\n",
        "    \"e\" : 0.1009,\n",
        "    \"i\" : 0.0795,\n",
        "    \"u\" : 0.0465,\n",
        "} \n",
        "\n",
        "consonant_f = {\n",
        "    \"r\" : 0.0771,\n",
        "    \"s\" : 0.0725,\n",
        "    \"m\" : 0.0477,\n",
        "    \"t\" : 0.0404,\n",
        "    \"c\" : 0.0400,\n",
        "    \"l\" : 0.0376,\n",
        "    \"n\" : 0.0320,\n",
        "    \"d\" : 0.0278,\n",
        "    \"p\" : 0.0255,\n",
        "    \"g\" : 0.0220,\n",
        "    \"v\" : 0.0218,\n",
        "    \"b\" : 0.0197,\n",
        "    \"f\" : 0.0195,\n",
        "    \"h\" : 0.0086,\n",
        "    \"j\" : 0.0076,\n",
        "    \"z\" : 0.0074,\n",
        "    \"x\" : 0.0060,\n",
        "    \"q\" : 0.0014,\n",
        "    \"k\" : 0.0001,\n",
        "}\n",
        "\n",
        "\n",
        "\n",
        "\"\"\"\n",
        "Given a set of test characteres it will test if they relates to the word_str\n",
        "returning trues if this relation holds.\n",
        "\n",
        "Ex.  check('ab',\"colegio\",\"in\") ==> False\n",
        "     check('ab',\"colegio\",\"out\") ==> True\n",
        "     check('ab',\"colegio\",\"biro\") ==> TypeError\n",
        "\"\"\"\n",
        "def check(test_chars,word_str, relations):\n",
        "  if relations == \"in\":\n",
        "    for i in test_chars:\n",
        "      if i not in word_str:\n",
        "        return False\n",
        "    return True\n",
        "  if relations == \"out\":\n",
        "    for i in test_chars:\n",
        "      if i in word_str:\n",
        "        return False\n",
        "    return True\n",
        "  raise TypeError(\"relations should be in/out\")\n",
        "\n",
        "\n",
        "\"\"\"\n",
        "in_word       - characters that must exist in the word\n",
        "out_of_word   - characters that can't exist in the word\n",
        "word_regex    - regex describing the word (which characters and in \n",
        "      which position), ex. '^.a..s$' for 'patos'\n",
        "\"\"\"\n",
        "def print_candidates(in_word, out_of_word, word_regex, ret=False):\n",
        "  candidates = []\n",
        "  for w in words5char:\n",
        "    if word_regex:\n",
        "      if not re.match(word_regex, w):\n",
        "        continue\n",
        "    if not check(in_word, w, \"in\"):\n",
        "      continue\n",
        "    if not check(out_of_word, w, \"out\"):\n",
        "      continue\n",
        "    \n",
        "    candidates.append(w)\n",
        "\n",
        "  if ret:\n",
        "    return candidates\n",
        "\n",
        "  for i in candidates:\n",
        "    print(i)\n",
        "\n",
        "\n",
        "def print_candidates_trained(in_word, out_of_word, word_regex):\n",
        "  iw_l = len(in_word)\n",
        "\n",
        "  vc = vowel_f.copy()\n",
        "  cc = consonant_f.copy()\n",
        "\n",
        "  if iw_l == 5:\n",
        "    print_candidates(in_word,out_of_word, word_regex)\n",
        "    return\n",
        "\n",
        "  for o in out_of_word+in_word:\n",
        "    if o in vc:\n",
        "      del vc[o]\n",
        "      print(\"removing \",o)\n",
        "    if o in cc:\n",
        "      del cc[o]\n",
        "      print(\"removing \",o)\n",
        " \n",
        "  \n",
        "  if iw_l == 0:\n",
        "    tmp_inw = \"\".join([x[0] for x in sorted(vc.items(), key=operator.itemgetter(1), reverse=True)][0:3])\n",
        "    tmp_inw += \"\".join([x[0] for x in sorted(cc.items(), key=operator.itemgetter(1), reverse=True)][0:2])\n",
        "    print_candidates(tmp_inw, out_of_word, word_regex)    \n",
        "    return \n",
        "\n",
        "  new_chars = \"\"\n",
        "  candidates = None\n",
        "  print(\"-\",in_word)\n",
        "  \n",
        "  for i in range(5-iw_l):    \n",
        "    char_source = cc\n",
        "    # Just one vowel per try after the first try\n",
        "    if i == 0:\n",
        "      if vc:\n",
        "        char_source = vc\n",
        "    tmp_c = [x[0] for x in sorted(char_source.items(), key=operator.itemgetter(1), reverse=True)][0]\n",
        "    print(\" tmp_c:\",tmp_c)\n",
        "    new_chars += tmp_c\n",
        "    del char_source[tmp_c]  \n",
        "    print(\"-\",in_word+new_chars)\n",
        "\n",
        "  while not candidates:\n",
        "    new_chars= new_chars[:-1]\n",
        "    print(\"failed... retrying with \",new_chars)\n",
        "    candidates = print_candidates(in_word+new_chars,out_of_word, word_regex, True)\n",
        "  \n",
        "  print(candidates)\n",
        "    \n",
        " \n",
        "  \n",
        "\n"
      ],
      "metadata": {
        "id": "TFh8DPMy48rT"
      },
      "execution_count": 140,
      "outputs": []
    },
    {
      "cell_type": "code",
      "source": [
        "print_candidates_trained(\"\",\"\",\"\")\n",
        "#menprint_candidates_trained(\"roe\",\"sa\",\"[^r][^o][^s][^e][^a]\")\n",
        "print_candidates_trained(\"rome\",\"isa\",\"[^ri][^ro][^es][^me][^ao]\")\n",
        "#print_candidates_trained(\"cuom\",\"pseirta\",\"c[^u][^p][^o]m\")\n",
        "#print_candidates(\"omit\",\"sera\",\"[^s][^e][^r][^a][^o]\")"
      ],
      "metadata": {
        "colab": {
          "base_uri": "https://localhost:8080/"
        },
        "id": "AYBwKcXY6Bpk",
        "outputId": "c39e1f40-7c56-49db-c726-c2e624537fc8"
      },
      "execution_count": 147,
      "outputs": [
        {
          "output_type": "stream",
          "name": "stdout",
          "text": [
            "serao\n",
            "rosea\n",
            "removing  s\n",
            "removing  a\n",
            "removing  r\n",
            "removing  o\n",
            "removing  e\n",
            "- roe\n",
            " tmp_c: i\n",
            "- roei\n",
            " tmp_c: m\n",
            "- roeim\n",
            "failed... retrying with  i\n",
            "['iremo', 'epiro', 'ibero', 'erico', 'creio', 'freio', 'piore', 'heroi', 'erijo', 'beiro', 'erodi', 'itero', 'ebrio']\n",
            "removing  i\n",
            "removing  s\n",
            "removing  a\n",
            "removing  r\n",
            "removing  o\n",
            "removing  m\n",
            "removing  e\n",
            "- rome\n",
            " tmp_c: u\n",
            "- romeu\n",
            "failed... retrying with  \n",
            "['menor', 'temor']\n"
          ]
        }
      ]
    },
    {
      "cell_type": "code",
      "source": [
        ""
      ],
      "metadata": {
        "id": "-DmwEbTr5JoG"
      },
      "execution_count": null,
      "outputs": []
    },
    {
      "cell_type": "code",
      "source": [
        "import random\n",
        "str_var = list(\"mitc\")\n",
        "random.shuffle(str_var)\n",
        "print(''.join(str_var)[0:-1])"
      ],
      "metadata": {
        "colab": {
          "base_uri": "https://localhost:8080/"
        },
        "id": "TNvQmFIHu_eq",
        "outputId": "07e7fb02-27da-4020-facd-d5a9d04c25c7"
      },
      "execution_count": 111,
      "outputs": [
        {
          "output_type": "stream",
          "name": "stdout",
          "text": [
            "icm\n"
          ]
        }
      ]
    },
    {
      "cell_type": "code",
      "source": [
        "import copy\n",
        "\n",
        "\n",
        "# Model of 5 character words \n",
        "\n",
        "vowel_f = {\n",
        "    \"a\" : 0.1564,\n",
        "    \"o\" : 0.1019,\n",
        "    \"e\" : 0.1009,\n",
        "    \"i\" : 0.0795,\n",
        "    \"u\" : 0.0465,\n",
        "} \n",
        "\n",
        "consonant_f = {\n",
        "    \"r\" : 0.0771,\n",
        "    \"s\" : 0.0725,\n",
        "    \"m\" : 0.0477,\n",
        "    \"t\" : 0.0404,\n",
        "    \"c\" : 0.0400,\n",
        "    \"l\" : 0.0376,\n",
        "    \"n\" : 0.0320,\n",
        "    \"d\" : 0.0278,\n",
        "    \"p\" : 0.0255,\n",
        "    \"g\" : 0.0220,\n",
        "    \"v\" : 0.0218,\n",
        "    \"b\" : 0.0197,\n",
        "    \"f\" : 0.0195,\n",
        "    \"h\" : 0.0086,\n",
        "    \"j\" : 0.0076,\n",
        "    \"z\" : 0.0074,\n",
        "    \"x\" : 0.0060,\n",
        "    \"q\" : 0.0014,\n",
        "    \"k\" : 0.0001,\n",
        "}\n",
        "\n",
        "p = 3\n",
        "tmp_inw = \"\".join([x[0] for x in sorted(vowel_f.items(), key=operator.itemgetter(1), reverse=True)][0:p])\n",
        "tmp_inw += \"\".join([x[0] for x in sorted(consonant_f.items(), key=operator.itemgetter(1), reverse=True)][0:2])\n",
        "print(tmp_inw)"
      ],
      "metadata": {
        "colab": {
          "base_uri": "https://localhost:8080/"
        },
        "id": "Ow1u1mxGo60I",
        "outputId": "5988aff0-3692-442d-8155-e5210a045837"
      },
      "execution_count": 70,
      "outputs": [
        {
          "output_type": "stream",
          "name": "stdout",
          "text": [
            "aoers\n"
          ]
        }
      ]
    },
    {
      "cell_type": "code",
      "source": [
        "\n",
        "g_vow_freq = {\n",
        "'a' : 0.1463,\n",
        "'i' : 0.0618,\n",
        "'u' : 0.0463,\n",
        "'e' : 0.01257,\n",
        "'o' : 0.01073,\n",
        "}\n",
        "\n",
        "g_cons_freq = {\n",
        "\n",
        "'b' : 0.0104,\n",
        "'c' : 0.0388,\n",
        "'d' : 0.0499,\n",
        "\n",
        "'f' : 0.0102,\n",
        "'g' : 0.0130,\n",
        "'h' : 0.0128,\n",
        "\n",
        "'j' : 0.0040,\n",
        "'k' : 0.0002,\n",
        "'l' : 0.0278,\n",
        "'m' : 0.0474,\n",
        "'n' : 0.0505,\n",
        "\n",
        "'p' : 0.0252,\n",
        "'q' : 0.0120,\n",
        "'r' : 0.0653,\n",
        "'s' : 0.0781,\n",
        "'t' : 0.0434,\n",
        "\n",
        "'v' : 0.0167,\n",
        "'w' : 0.0001,\n",
        "'x' : 0.0021,\n",
        "'y' : 0.0001,\n",
        "'z' : 0.0047,\n",
        "}\n",
        "\n",
        "import operator\n",
        "print(sorted(g_vow_freq.items(), key=operator.itemgetter(1), reverse=True))\n",
        "print(sorted(g_cons_freq.items(), key=operator.itemgetter(1), reverse=True))\n",
        "\n"
      ],
      "metadata": {
        "colab": {
          "base_uri": "https://localhost:8080/"
        },
        "id": "qgpwqgisO78s",
        "outputId": "e86a6474-a694-4277-d82c-9697657f485c"
      },
      "execution_count": 9,
      "outputs": [
        {
          "output_type": "stream",
          "name": "stdout",
          "text": [
            "[('a', 0.1463), ('i', 0.0618), ('u', 0.0463), ('e', 0.01257), ('o', 0.01073)]\n",
            "[('s', 0.0781), ('r', 0.0653), ('n', 0.0505), ('d', 0.0499), ('m', 0.0474), ('t', 0.0434), ('c', 0.0388), ('l', 0.0278), ('p', 0.0252), ('v', 0.0167), ('g', 0.013), ('h', 0.0128), ('q', 0.012), ('b', 0.0104), ('f', 0.0102), ('z', 0.0047), ('j', 0.004), ('x', 0.0021), ('k', 0.0002), ('w', 0.0001), ('y', 0.0001)]\n"
          ]
        }
      ]
    },
    {
      "cell_type": "code",
      "source": [
        "#print_candidates(\"eorm\",\"cguapis\",\"[^rac]e[^egm]o[^ous]\")\n",
        "#print_candidates(\"aiusr\",\"\",\"\")\n",
        "print_candidates(\"reonm\",\"duias\",\"[^rd][^ur][^ie][^an][^so]\")"
      ],
      "metadata": {
        "colab": {
          "base_uri": "https://localhost:8080/"
        },
        "id": "NmBb6YpLn8S6",
        "outputId": "c61a2a71-3387-45db-e5f4-b92fbed2776b"
      },
      "execution_count": 21,
      "outputs": [
        {
          "output_type": "stream",
          "name": "stdout",
          "text": [
            "menor\n"
          ]
        }
      ]
    }
  ]
}